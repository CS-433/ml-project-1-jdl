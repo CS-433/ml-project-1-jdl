{
 "cells": [
  {
   "cell_type": "code",
   "execution_count": 1,
   "id": "4fc68afd",
   "metadata": {},
   "outputs": [],
   "source": [
    "%matplotlib inline\n",
    "import numpy as np\n",
    "import matplotlib.pyplot as plt\n",
    "from implementations import *\n",
    "from helpers import *\n",
    "from data_processing import *\n",
    "from cross_validation import *"
   ]
  },
  {
   "cell_type": "markdown",
   "id": "bacd61b1-6f87-4950-b455-1d3a696c3e73",
   "metadata": {},
   "source": [
    "## How to use it"
   ]
  },
  {
   "cell_type": "code",
   "execution_count": 2,
   "id": "a6035b88-d6ea-493f-adf1-42ab09bb5c72",
   "metadata": {},
   "outputs": [],
   "source": [
    "features, labels = load_data()"
   ]
  },
  {
   "cell_type": "code",
   "execution_count": 3,
   "id": "694e233b-a534-4c2c-9a59-f8d3730ba9bf",
   "metadata": {},
   "outputs": [
    {
     "name": "stdout",
     "output_type": "stream",
     "text": [
      "There are 74.42228571428572% correct prediction in the training set\n",
      "There are 74.404% correct prediction in the test set\n"
     ]
    }
   ],
   "source": [
    "train_tx, train_y, test_tx, test_y = preprocessing(features, labels)\n",
    "weights, loss = least_squares(train_y, train_tx)\n",
    "train_score, test_score = correctness(train_tx, train_y, test_tx, test_y, weights)"
   ]
  },
  {
   "cell_type": "code",
   "execution_count": 4,
   "id": "5cb05f8b-9376-48da-afd4-dca60e9a205a",
   "metadata": {},
   "outputs": [
    {
     "name": "stdout",
     "output_type": "stream",
     "text": [
      "There are 72.69238029321085% correct prediction in the training set\n",
      "There are 72.40029361389773% correct prediction in the test set\n"
     ]
    }
   ],
   "source": [
    "train_tx, train_y, test_tx, test_y = preprocessing(features, labels, dtype = 'row')\n",
    "weights, loss = least_squares(train_y, train_tx)\n",
    "train_score, test_score = correctness(train_tx, train_y, test_tx, test_y, weights)"
   ]
  },
  {
   "cell_type": "markdown",
   "id": "43bde13b",
   "metadata": {},
   "source": [
    "## Cross validation"
   ]
  },
  {
   "cell_type": "code",
   "execution_count": 5,
   "id": "942ef7df",
   "metadata": {},
   "outputs": [],
   "source": [
    "features, labels = load_data()"
   ]
  },
  {
   "cell_type": "code",
   "execution_count": 6,
   "id": "6c5a465c",
   "metadata": {},
   "outputs": [],
   "source": [
    "train_tx, train_y, test_tx, test_y = preprocessing(features, labels)"
   ]
  },
  {
   "cell_type": "code",
   "execution_count": 16,
   "id": "63800d69-65fc-46fd-8ba2-89f8f488a351",
   "metadata": {
    "scrolled": true
   },
   "outputs": [
    {
     "name": "stdout",
     "output_type": "stream",
     "text": [
      "[0.08512391 0.0851629 ]\n",
      "[0.08512393 0.0851629 ]\n",
      "[0.08512396 0.08516291]\n",
      "[0.08512403 0.08516294]\n",
      "[0.08512417 0.08516302]\n",
      "[0.08512441 0.0851632 ]\n",
      "[0.08512488 0.08516358]\n",
      "[0.08512575 0.08516433]\n",
      "[0.08512737 0.08516579]\n",
      "[0.08513039 0.08516859]\n",
      "[0.08513597 0.0851739 ]\n",
      "[0.08514623 0.0851838 ]\n",
      "[0.08516494 0.08520206]\n",
      "[0.08519869 0.08523527]\n",
      "[0.08525884 0.08529476]\n",
      "[0.08536442 0.08539959]\n",
      "[0.08554671 0.08558104]\n",
      "[0.08585584 0.08588931]\n",
      "[0.08637093 0.08640355]\n",
      "[0.08721535 0.08724719]\n",
      "[0.08857932 0.08861048]\n",
      "[0.09074984 0.09078043]\n",
      "[0.09414114 0.09417119]\n",
      "[0.09930607 0.09933554]\n",
      "[0.10689587 0.10692459]\n",
      "[0.11753582 0.11756357]\n",
      "[0.13161761 0.13164417]\n",
      "[0.14907449 0.14909963]\n",
      "[0.16925967 0.16928314]\n",
      "[0.19102552 0.19104704]\n"
     ]
    },
    {
     "data": {
      "image/png": "[encoded data removed]",
      "text/plain": [
       "<Figure size 432x288 with 1 Axes>"
      ]
     },
     "metadata": {
      "needs_background": "light"
     },
     "output_type": "display_data"
    }
   ],
   "source": [
    "def cross_validation_lambda_demo():\n",
    "    seed = 1\n",
    "    k_fold = 10\n",
    "    lambdas = np.logspace(-4, 0, 30)\n",
    "    # split data in k fold\n",
    "    k_indices = build_k_indices(train_y, k_fold, seed)\n",
    "    # define lists to store the loss of training data and test data\n",
    "    rmse_tr = []\n",
    "    rmse_te = []\n",
    "    # compute loss for each lambda is lambdas\n",
    "    for i in range(len(lambdas)):\n",
    "        losses = np.zeros([k_fold, 2])\n",
    "        for k in range(k_fold):\n",
    "            losses[k, :] = cross_validation(train_y, train_tx, k_indices, k, lambdas[i])\n",
    "\n",
    "        mean_losses = np.mean(losses, axis=0)\n",
    "        print(mean_losses)\n",
    "        rmse_tr.append(np.sqrt(mean_losses[0]))\n",
    "        rmse_te.append(np.sqrt(mean_losses[1]))\n",
    "    \n",
    "    cross_validation_lambda_visualization(lambdas, rmse_tr, rmse_te)\n",
    "        \n",
    "cross_validation_lambda_demo()"
   ]
  }
 ],
 "metadata": {
  "kernelspec": {
   "display_name": "Python 3",
   "language": "python",
   "name": "python3"
  },
  "language_info": {
   "codemirror_mode": {
    "name": "ipython",
    "version": 3
   },
   "file_extension": ".py",
   "mimetype": "text/x-python",
   "name": "python",
   "nbconvert_exporter": "python",
   "pygments_lexer": "ipython3",
   "version": "3.8.10"
  }
 },
 "nbformat": 4,
 "nbformat_minor": 5
}

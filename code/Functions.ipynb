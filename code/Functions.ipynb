{
 "cells": [
  {
   "cell_type": "code",
   "execution_count": 1,
   "id": "4fc68afd",
   "metadata": {},
   "outputs": [],
   "source": [
    "%matplotlib inline\n",
    "import numpy as np\n",
    "import matplotlib.pyplot as plt\n",
    "from implementations import *\n",
    "from helpers import *\n",
    "from data_processing import *\n",
    "from cross_validation import *"
   ]
  },
  {
   "cell_type": "markdown",
   "id": "bacd61b1-6f87-4950-b455-1d3a696c3e73",
   "metadata": {},
   "source": [
    "## How to use it"
   ]
  },
  {
   "cell_type": "code",
   "execution_count": 2,
   "id": "a6035b88-d6ea-493f-adf1-42ab09bb5c72",
   "metadata": {},
   "outputs": [],
   "source": [
    "features, labels = load_data()"
   ]
  },
  {
   "cell_type": "code",
   "execution_count": 3,
   "id": "694e233b-a534-4c2c-9a59-f8d3730ba9bf",
   "metadata": {},
   "outputs": [
    {
     "name": "stdout",
     "output_type": "stream",
     "text": [
      "There are 74.42228571428572% correct prediction in the training set\n",
      "There are 74.404% correct prediction in the test set\n"
     ]
    }
   ],
   "source": [
    "train_tx, train_y, test_tx, test_y = preprocessing(features, labels)\n",
    "weights, loss = least_squares(train_y, train_tx)\n",
    "train_score, test_score = correctness(train_tx, train_y, test_tx, test_y, weights)"
   ]
  },
  {
   "cell_type": "code",
   "execution_count": 4,
   "id": "5cb05f8b-9376-48da-afd4-dca60e9a205a",
   "metadata": {},
   "outputs": [
    {
     "name": "stdout",
     "output_type": "stream",
     "text": [
      "There are 72.69238029321085% correct prediction in the training set\n",
      "There are 72.40029361389773% correct prediction in the test set\n"
     ]
    }
   ],
   "source": [
    "train_tx, train_y, test_tx, test_y = preprocessing(features, labels, dtype = 'row')\n",
    "weights, loss = least_squares(train_y, train_tx)\n",
    "train_score, test_score = correctness(train_tx, train_y, test_tx, test_y, weights)"
   ]
  },
  {
   "cell_type": "markdown",
   "id": "43bde13b",
   "metadata": {},
   "source": [
    "## Cross validation"
   ]
  },
  {
   "cell_type": "code",
   "execution_count": 5,
   "id": "942ef7df",
   "metadata": {},
   "outputs": [],
   "source": [
    "features, labels = load_data()"
   ]
  },
  {
   "cell_type": "code",
   "execution_count": 6,
   "id": "6c5a465c",
   "metadata": {},
   "outputs": [],
   "source": [
    "train_tx, train_y, test_tx, test_y = preprocessing(features, labels)"
   ]
  },
  {
   "cell_type": "code",
   "execution_count": 16,
   "id": "63800d69-65fc-46fd-8ba2-89f8f488a351",
   "metadata": {
    "scrolled": true
   },
   "outputs": [
    {
     "data": {
      "image/png": "[encoded data removed]",
      "text/plain": [
       "<Figure size 432x288 with 1 Axes>"
      ]
     },
     "metadata": {
      "needs_background": "light"
     },
     "output_type": "display_data"
    }
   ],
   "source": [
    "def cross_validation_lambda_demo():\n",
    "    seed = 1\n",
    "    k_fold = 10\n",
    "    lambdas = np.logspace(-4, 0, 30)\n",
    "    # split data in k fold\n",
    "    k_indices = build_k_indices(train_y, k_fold, seed)\n",
    "    # define lists to store the loss of training data and test data\n",
    "    rmse_tr = []\n",
    "    rmse_te = []\n",
    "    # compute loss for each lambda is lambdas\n",
    "    for i in range(len(lambdas)):\n",
    "        rmse_tr_tmp = []\n",
    "        rmse_te_tmp = []\n",
    "        for k in range(k_fold):\n",
    "            loss_tr, loss_te = cross_validation(train_y, train_tx, k_indices, k, lambdas[i])\n",
    "            rmse_tr_tmp.append(loss_tr)\n",
    "            rmse_te_tmp.append(loss_te)\n",
    "            \n",
    "        rmse_tr.append(np.mean(rmse_tr_tmp))\n",
    "        rmse_te.append(np.mean(rmse_te_tmp))\n",
    "    \n",
    "    cross_validation_lambda_visualization(lambdas, rmse_tr, rmse_te)\n",
    "        \n",
    "cross_validation_lambda_demo()"
   ]
  },
  {
   "cell_type": "code",
   "execution_count": null,
   "id": "bb7c2d5a",
   "metadata": {},
   "outputs": [],
   "source": []
  }
 ],
 "metadata": {
  "kernelspec": {
   "display_name": "Python 3",
   "language": "python",
   "name": "python3"
  },
  "language_info": {
   "codemirror_mode": {
    "name": "ipython",
    "version": 3
   },
   "file_extension": ".py",
   "mimetype": "text/x-python",
   "name": "python",
   "nbconvert_exporter": "python",
   "pygments_lexer": "ipython3",
   "version": "3.8.10"
  }
 },
 "nbformat": 4,
 "nbformat_minor": 5
}

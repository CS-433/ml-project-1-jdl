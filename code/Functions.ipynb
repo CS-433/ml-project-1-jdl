{
 "cells": [
  {
   "cell_type": "code",
   "execution_count": null,
   "id": "7994cbdd-10b2-4d7a-80d8-b432633bf6d3",
   "metadata": {},
   "outputs": [],
   "source": [
    "import numpy as np\n",
    "from implementations import *\n",
    "from load_data import *\n",
    "from data_processing import *"
   ]
  },
  {
   "cell_type": "markdown",
   "id": "bacd61b1-6f87-4950-b455-1d3a696c3e73",
   "metadata": {},
   "source": [
    "## How to use it"
   ]
  },
  {
   "cell_type": "code",
   "execution_count": null,
   "id": "a6035b88-d6ea-493f-adf1-42ab09bb5c72",
   "metadata": {},
   "outputs": [],
   "source": [
    "features, labels = load_data()"
   ]
  },
  {
   "cell_type": "code",
   "execution_count": null,
   "id": "694e233b-a534-4c2c-9a59-f8d3730ba9bf",
   "metadata": {},
   "outputs": [],
   "source": [
    "train_tx, train_y, test_tx, test_y = preprocessing(features, labels)\n",
    "weights, loss = least_squares(train_y, train_tx)\n",
    "train_score, test_score = correctness(train_tx, train_y, test_tx, test_y, weights)"
   ]
  },
  {
   "cell_type": "code",
   "execution_count": null,
   "id": "5cb05f8b-9376-48da-afd4-dca60e9a205a",
   "metadata": {},
   "outputs": [],
   "source": [
    "train_tx, train_y, test_tx, test_y = preprocessing(features, labels, dtype = 'row')\n",
    "weights, loss = least_squares(train_y, train_tx)\n",
    "train_score, test_score = correctness(train_tx, train_y, test_tx, test_y, weights)"
   ]
  },
  {
   "cell_type": "code",
   "execution_count": null,
   "id": "90fbcf56-fb21-4665-9557-e6067318486a",
   "metadata": {},
   "outputs": [],
   "source": []
  },
  {
   "cell_type": "code",
   "execution_count": null,
   "id": "63800d69-65fc-46fd-8ba2-89f8f488a351",
   "metadata": {},
   "outputs": [],
   "source": []
  }
 ],
 "metadata": {
  "kernelspec": {
   "display_name": "Python 3",
   "language": "python",
   "name": "python3"
  },
  "language_info": {
   "codemirror_mode": {
    "name": "ipython",
    "version": 3
   },
   "file_extension": ".py",
   "mimetype": "text/x-python",
   "name": "python",
   "nbconvert_exporter": "python",
   "pygments_lexer": "ipython3",
   "version": "3.6.13"
  }
 },
 "nbformat": 4,
 "nbformat_minor": 5
}
